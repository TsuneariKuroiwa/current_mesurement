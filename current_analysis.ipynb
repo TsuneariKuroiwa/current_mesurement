{
 "cells": [
  {
   "cell_type": "code",
   "execution_count": 10,
   "id": "a94c5ec2",
   "metadata": {},
   "outputs": [
    {
     "name": "stdout",
     "output_type": "stream",
     "text": [
      "2025-08-05 17:55:23.995440 〜 2025-08-05 17:55:25.036876 の平均電流は 73.52 mA です\n"
     ]
    }
   ],
   "source": [
    "import pandas as pd\n",
    "\n",
    "# CSVファイル読み込み\n",
    "df = pd.read_csv('current_log.csv')\n",
    "\n",
    "# 文字列をdatetime型に変換\n",
    "df['Timestamp'] = pd.to_datetime(df['Timestamp'])\n",
    "\n",
    "# ここで指定：抽出する時間範囲\n",
    "# start_time = pd.to_datetime('2025-04-22 17:35:48')\n",
    "# end_time = pd.to_datetime('2025-04-22 17:36:44')\n",
    "start_time = pd.to_datetime('2025-08-05 17:55:23.995440')\n",
    "end_time = pd.to_datetime('2025-08-05 17:55:25.036876')\n",
    "\n",
    "# 指定範囲のデータ抽出\n",
    "mask = (df['Timestamp'] >= start_time) & (df['Timestamp'] <= end_time)\n",
    "selected = df.loc[mask]\n",
    "\n",
    "# 平均を計算\n",
    "average_current = selected['Current (mA)'].mean()\n",
    "\n",
    "# 結果表示\n",
    "print(f\"{start_time} 〜 {end_time} の平均電流は {average_current:.2f} mA です\")"
   ]
  },
  {
   "cell_type": "code",
   "execution_count": null,
   "id": "70b2af12",
   "metadata": {},
   "outputs": [],
   "source": []
  }
 ],
 "metadata": {
  "kernelspec": {
   "display_name": "Python 3",
   "language": "python",
   "name": "python3"
  },
  "language_info": {
   "codemirror_mode": {
    "name": "ipython",
    "version": 3
   },
   "file_extension": ".py",
   "mimetype": "text/x-python",
   "name": "python",
   "nbconvert_exporter": "python",
   "pygments_lexer": "ipython3",
   "version": "3.12.10"
  }
 },
 "nbformat": 4,
 "nbformat_minor": 5
}
